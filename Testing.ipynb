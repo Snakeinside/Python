{
  "nbformat": 4,
  "nbformat_minor": 0,
  "metadata": {
    "colab": {
      "provenance": []
    },
    "kernelspec": {
      "name": "python3",
      "display_name": "Python 3"
    },
    "language_info": {
      "name": "python"
    }
  },
  "cells": [
    {
      "cell_type": "code",
      "execution_count": 4,
      "metadata": {
        "colab": {
          "base_uri": "https://localhost:8080/",
          "height": 36
        },
        "id": "rxznc4XsFCgp",
        "outputId": "65826c50-d936-4287-8f3a-24564fee5b4b"
      },
      "outputs": [
        {
          "output_type": "execute_result",
          "data": {
            "text/plain": [
              "'\\nThis is a test file \\n'"
            ],
            "application/vnd.google.colaboratory.intrinsic+json": {
              "type": "string"
            }
          },
          "metadata": {},
          "execution_count": 4
        }
      ],
      "source": [
        "#This is my first file of python the ajgar.\n",
        "'''\n",
        "This is a test file\n",
        "'''"
      ]
    },
    {
      "cell_type": "code",
      "source": [],
      "metadata": {
        "id": "6qsiIhdQIV1W"
      },
      "execution_count": null,
      "outputs": []
    },
    {
      "cell_type": "markdown",
      "source": [
        "This is a test file."
      ],
      "metadata": {
        "id": "0UyZNjptIkna"
      }
    },
    {
      "cell_type": "code",
      "source": [],
      "metadata": {
        "id": "CEWE_LzrIrjy"
      },
      "execution_count": null,
      "outputs": []
    }
  ]
}